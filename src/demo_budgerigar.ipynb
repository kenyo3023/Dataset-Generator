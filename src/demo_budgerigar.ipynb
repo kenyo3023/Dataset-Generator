{
 "cells": [
  {
   "cell_type": "code",
   "execution_count": 1,
   "metadata": {},
   "outputs": [
    {
     "data": {
      "text/plain": [
       "'這世上顏色最鮮豔的鸚鵡之一是彩虹吸蜜鸚鵡（Rainbow Lorikeet）。它們以其鮮豔的羽毛而聞名，擁有多種顏色，包括藍色、綠色、紅色和黃色。這種鸚鵡主要分布在澳大利亞和印尼等地，因其亮麗的外觀而受到鳥類愛好者的喜愛。'"
      ]
     },
     "execution_count": 1,
     "metadata": {},
     "output_type": "execute_result"
    }
   ],
   "source": [
    "from inference_engine.openai import OpenAIInferenceEngine\n",
    "\n",
    "engine = OpenAIInferenceEngine('gpt-4o')\n",
    "response = engine.chat_completions('這世上顏色最鮮豔的一種鸚鵡是？')\n",
    "response.choices[0].message.content"
   ]
  },
  {
   "cell_type": "code",
   "execution_count": 2,
   "metadata": {},
   "outputs": [],
   "source": [
    "# Initialize the BudgeRigar: image-to-textQA data generator\n",
    "\n",
    "from generator.budgerigar import BudgeRigar\n",
    "\n",
    "image_path = '../source/images/budgerigar.jpg'\n",
    "\n",
    "data_generator = BudgeRigar(engine=engine)"
   ]
  },
  {
   "cell_type": "code",
   "execution_count": 3,
   "metadata": {},
   "outputs": [
    {
     "data": {
      "text/plain": [
       "[[{'role': 'user', 'content': 'What types of birds are shown in the image?'},\n",
       "  {'role': 'assistant',\n",
       "   'content': 'The image shows three budgerigars, also known as parakeets, in different colors: yellow, blue with black markings, and light blue.'}]]"
      ]
     },
     "execution_count": 3,
     "metadata": {},
     "output_type": "execute_result"
    }
   ],
   "source": [
    "# Demo 1: single-turn data generating\n",
    "output = data_generator.batch_generate(image_path, min_turn=1, max_turn=1)\n",
    "output"
   ]
  },
  {
   "cell_type": "code",
   "execution_count": 4,
   "metadata": {},
   "outputs": [
    {
     "data": {
      "text/plain": [
       "[[{'role': 'user', 'content': 'What types of birds are shown in the image?'},\n",
       "  {'role': 'assistant',\n",
       "   'content': 'The image shows three budgerigars, also known as budgies or parakeets.'},\n",
       "  {'role': 'user',\n",
       "   'content': 'Why do these budgerigars have different colors?'},\n",
       "  {'role': 'assistant',\n",
       "   'content': 'Budgerigars come in a variety of colors due to selective breeding. The yellow, blue, and green colors are common variations.'},\n",
       "  {'role': 'user', 'content': 'Are these color variations found in the wild?'},\n",
       "  {'role': 'assistant',\n",
       "   'content': 'In the wild, budgerigars are typically green and yellow, which helps them blend into their natural environment. The blue and other color variations are more common in domesticated budgies.'}]]"
      ]
     },
     "execution_count": 4,
     "metadata": {},
     "output_type": "execute_result"
    }
   ],
   "source": [
    "# Demo 2: multi-turn data generating\n",
    "output = data_generator.batch_generate(image_path, min_turn=1, max_turn=5)\n",
    "output"
   ]
  },
  {
   "cell_type": "code",
   "execution_count": 5,
   "metadata": {},
   "outputs": [
    {
     "data": {
      "text/plain": [
       "[[{'role': 'user', 'content': 'What types of birds are shown in the image?'},\n",
       "  {'role': 'assistant',\n",
       "   'content': 'The image shows three budgerigars, commonly known as budgies or parakeets.'},\n",
       "  {'role': 'user',\n",
       "   'content': 'What are the colors of the birds in the image?'},\n",
       "  {'role': 'assistant',\n",
       "   'content': 'The birds are yellow, light blue, and blue with white and black markings.'},\n",
       "  {'role': 'user', 'content': 'What is the background like in the image?'},\n",
       "  {'role': 'assistant',\n",
       "   'content': 'The background is a blurred green, suggesting a natural, outdoor setting.'}]]"
      ]
     },
     "execution_count": 5,
     "metadata": {},
     "output_type": "execute_result"
    }
   ],
   "source": [
    "# Demo 3: TODO multi-independent-turn data generating\n",
    "output = data_generator.batch_generate(image_path, min_turn=1, max_turn=5, question_independent=True)\n",
    "output"
   ]
  }
 ],
 "metadata": {
  "kernelspec": {
   "display_name": "llm-tools",
   "language": "python",
   "name": "python3"
  },
  "language_info": {
   "codemirror_mode": {
    "name": "ipython",
    "version": 3
   },
   "file_extension": ".py",
   "mimetype": "text/x-python",
   "name": "python",
   "nbconvert_exporter": "python",
   "pygments_lexer": "ipython3",
   "version": "3.11.10"
  }
 },
 "nbformat": 4,
 "nbformat_minor": 2
}
