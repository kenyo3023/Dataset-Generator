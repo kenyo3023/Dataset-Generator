{
 "cells": [
  {
   "cell_type": "code",
   "execution_count": null,
   "metadata": {},
   "outputs": [],
   "source": []
  },
  {
   "cell_type": "markdown",
   "metadata": {},
   "source": [
    "# Test Inference Engine"
   ]
  },
  {
   "cell_type": "code",
   "execution_count": 1,
   "metadata": {},
   "outputs": [
    {
     "data": {
      "text/plain": [
       "'這世上顏色最鮮豔的鸚鵡之一是紅藍金剛鸚鵡（Ara macao），也被稱為金剛鸚鵡。它們以其鮮豔的紅色、藍色和黃色羽毛而聞名，是熱帶雨林中非常引人注目的鳥類。此外，彩虹吸蜜鸚鵡（Trichoglossus moluccanus）也是以其多彩的羽毛而著稱，擁有鮮豔的藍色、綠色、紅色和黃色。這些鸚鵡的色彩不僅吸引人類的目光，也在自然界中扮演著重要的角色。'"
      ]
     },
     "execution_count": 1,
     "metadata": {},
     "output_type": "execute_result"
    }
   ],
   "source": [
    "from inference_engine.openai import OpenAIInferenceEngine\n",
    "\n",
    "engine = OpenAIInferenceEngine('gpt-4o')\n",
    "response = engine.chat_completions('這世上顏色最鮮豔的一種鸚鵡是？')\n",
    "response.choices[0].message.content"
   ]
  },
  {
   "cell_type": "code",
   "execution_count": 2,
   "metadata": {},
   "outputs": [],
   "source": [
    "# Initialize the BudgeRigar: image-to-textQA data generator\n",
    "\n",
    "from generator.budgerigar import BudgeRigar\n",
    "\n",
    "image_path = '../source/images/budgerigar.jpg'\n",
    "\n",
    "data_generator = BudgeRigar(engine=engine)"
   ]
  },
  {
   "cell_type": "code",
   "execution_count": 3,
   "metadata": {},
   "outputs": [
    {
     "data": {
      "text/plain": [
       "[[{'role': 'user', 'content': 'What types of birds are shown in the image?'},\n",
       "  {'role': 'assistant',\n",
       "   'content': 'The image shows three budgerigars, also known as parakeets, in different colors: yellow, blue with black markings, and light blue.'}]]"
      ]
     },
     "execution_count": 3,
     "metadata": {},
     "output_type": "execute_result"
    }
   ],
   "source": [
    "# Demo 1: single-turn data generating\n",
    "output = data_generator.batch_generate(image_path, min_turn=1, max_turn=1)\n",
    "output"
   ]
  },
  {
   "cell_type": "code",
   "execution_count": 4,
   "metadata": {},
   "outputs": [
    {
     "data": {
      "text/plain": [
       "[[{'role': 'user', 'content': 'What types of birds are shown in the image?'},\n",
       "  {'role': 'assistant',\n",
       "   'content': 'The image shows three budgerigars, also known as budgies or parakeets.'},\n",
       "  {'role': 'user',\n",
       "   'content': 'Why do these budgerigars have different colors?'},\n",
       "  {'role': 'assistant',\n",
       "   'content': 'Budgerigars come in a variety of colors due to selective breeding. The yellow, blue, and green colors are common variations.'},\n",
       "  {'role': 'user', 'content': 'Are these color variations found in the wild?'},\n",
       "  {'role': 'assistant',\n",
       "   'content': 'In the wild, budgerigars are typically green and yellow, which helps them blend into their natural environment. The blue and other color variations are primarily a result of breeding in captivity.'}]]"
      ]
     },
     "execution_count": 4,
     "metadata": {},
     "output_type": "execute_result"
    }
   ],
   "source": [
    "# Demo 2: multi-turn data generating\n",
    "output = data_generator.batch_generate(image_path, min_turn=1, max_turn=5)\n",
    "output"
   ]
  },
  {
   "cell_type": "code",
   "execution_count": 5,
   "metadata": {},
   "outputs": [
    {
     "data": {
      "text/plain": [
       "[[{'role': 'user', 'content': 'What types of birds are shown in the image?'},\n",
       "  {'role': 'assistant',\n",
       "   'content': 'The image shows three budgerigars, also known as parakeets.'},\n",
       "  {'role': 'user',\n",
       "   'content': 'What are the colors of the birds in the image?'},\n",
       "  {'role': 'assistant',\n",
       "   'content': 'The birds are yellow, light blue, and blue with white and black markings.'},\n",
       "  {'role': 'user', 'content': 'What is the background like in the image?'},\n",
       "  {'role': 'assistant',\n",
       "   'content': 'The background is a blurred green, suggesting a natural, outdoor setting.'}]]"
      ]
     },
     "execution_count": 5,
     "metadata": {},
     "output_type": "execute_result"
    }
   ],
   "source": [
    "# Demo 3: multi-independent-turn data generating\n",
    "output = data_generator.batch_generate(image_path, min_turn=1, max_turn=5, question_independent=True)\n",
    "output"
   ]
  },
  {
   "cell_type": "code",
   "execution_count": 6,
   "metadata": {},
   "outputs": [
    {
     "data": {
      "text/plain": [
       "[[{'role': 'user', 'content': 'What types of birds are shown in the image?'},\n",
       "  {'role': 'assistant',\n",
       "   'content': 'The image shows three budgerigars, also known as budgies or parakeets.'},\n",
       "  {'role': 'user',\n",
       "   'content': 'Why do these budgerigars have different colors?'},\n",
       "  {'role': 'assistant',\n",
       "   'content': 'Budgerigars come in a variety of colors due to selective breeding. The yellow, blue, and mixed colors are common variations.'},\n",
       "  {'role': 'user', 'content': 'Are these color variations found in the wild?'},\n",
       "  {'role': 'assistant',\n",
       "   'content': 'In the wild, budgerigars are typically green and yellow. The other color variations are primarily a result of breeding in captivity.'}],\n",
       " [{'role': 'user', 'content': 'What types of birds are shown in the image?'},\n",
       "  {'role': 'assistant',\n",
       "   'content': 'The image shows three budgerigars, also known as parakeets.'},\n",
       "  {'role': 'user',\n",
       "   'content': 'Why do these budgerigars have different colors?'},\n",
       "  {'role': 'assistant',\n",
       "   'content': 'Budgerigars come in a variety of colors due to selective breeding. The colors in the image include yellow and two shades of blue.'},\n",
       "  {'role': 'user',\n",
       "   'content': 'Are these color variations common in the wild?'},\n",
       "  {'role': 'assistant',\n",
       "   'content': 'In the wild, budgerigars are typically green and yellow. The color variations seen in the image are more common in domesticated birds.'}],\n",
       " [{'role': 'user', 'content': 'What types of birds are shown in the image?'},\n",
       "  {'role': 'assistant',\n",
       "   'content': 'The image shows three budgerigars, also known as budgies or parakeets.'},\n",
       "  {'role': 'user', 'content': 'Why do these budgies have different colors?'},\n",
       "  {'role': 'assistant',\n",
       "   'content': 'Budgies come in a variety of colors due to selective breeding. The yellow, blue, and blue with white markings are common color variations.'},\n",
       "  {'role': 'user',\n",
       "   'content': 'Are these color variations natural or bred by humans?'},\n",
       "  {'role': 'assistant',\n",
       "   'content': 'While wild budgies are typically green and yellow, the color variations seen in the image are a result of human breeding for different colors.'}],\n",
       " [{'role': 'user', 'content': 'What types of birds are shown in the image?'},\n",
       "  {'role': 'assistant',\n",
       "   'content': 'The image shows three budgerigars, also known as budgies or parakeets.'},\n",
       "  {'role': 'user',\n",
       "   'content': 'Why do these budgerigars have different colors?'},\n",
       "  {'role': 'assistant',\n",
       "   'content': 'Budgerigars come in a variety of colors due to selective breeding. The yellow one is a lutino, and the blue ones are common color variations.'},\n",
       "  {'role': 'user',\n",
       "   'content': 'Are these color variations common in the wild?'},\n",
       "  {'role': 'assistant',\n",
       "   'content': 'In the wild, budgerigars are typically green and yellow. The blue and other color variations are more common in captivity due to breeding.'}],\n",
       " [{'role': 'user', 'content': 'What types of birds are shown in the image?'},\n",
       "  {'role': 'assistant',\n",
       "   'content': 'The image shows three budgerigars, commonly known as budgies or parakeets.'},\n",
       "  {'role': 'user', 'content': 'Why do budgies have different colors?'},\n",
       "  {'role': 'assistant',\n",
       "   'content': 'Budgies have different colors due to genetic variations and selective breeding. This results in a wide range of colors and patterns.'},\n",
       "  {'role': 'user',\n",
       "   'content': 'Are these color variations common in the wild?'},\n",
       "  {'role': 'assistant',\n",
       "   'content': 'In the wild, budgies are typically green and yellow, which helps them blend into their natural environment. The color variations seen in captivity are less common in the wild.'}]]"
      ]
     },
     "execution_count": 6,
     "metadata": {},
     "output_type": "execute_result"
    }
   ],
   "source": [
    "# Demo 4: async multi-turn data generating\n",
    "from generator.budgerigar import AsyncBudgeRigar\n",
    "from inference_engine.async_openai import AsyncOpenAIInferenceEngine\n",
    "\n",
    "image_path = ['../source/images/budgerigar.jpg'] * 5\n",
    "\n",
    "engine = AsyncOpenAIInferenceEngine('gpt-4o')\n",
    "data_generator = AsyncBudgeRigar(engine=engine)\n",
    "\n",
    "output = await data_generator.batch_generate(image_path, min_turn=1, max_turn=5, question_independent=False)\n",
    "output"
   ]
  },
  {
   "cell_type": "code",
   "execution_count": null,
   "metadata": {},
   "outputs": [],
   "source": []
  }
 ],
 "metadata": {
  "kernelspec": {
   "display_name": "llm-tools",
   "language": "python",
   "name": "python3"
  },
  "language_info": {
   "codemirror_mode": {
    "name": "ipython",
    "version": 3
   },
   "file_extension": ".py",
   "mimetype": "text/x-python",
   "name": "python",
   "nbconvert_exporter": "python",
   "pygments_lexer": "ipython3",
   "version": "3.11.10"
  }
 },
 "nbformat": 4,
 "nbformat_minor": 2
}
