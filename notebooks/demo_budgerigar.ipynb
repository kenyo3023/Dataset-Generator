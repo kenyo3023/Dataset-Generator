{
 "cells": [
  {
   "cell_type": "code",
   "execution_count": 1,
   "metadata": {},
   "outputs": [],
   "source": [
    "import os\n",
    "\n",
    "# Add the root directory to Python path\n",
    "os.chdir(os.path.abspath('..'))"
   ]
  },
  {
   "cell_type": "markdown",
   "metadata": {},
   "source": [
    "# Test Inference Engine"
   ]
  },
  {
   "cell_type": "code",
   "execution_count": 2,
   "metadata": {},
   "outputs": [
    {
     "data": {
      "text/plain": [
       "'這世上顏色最鮮豔的一種鸚鵡通常被認為是「金剛鸚鵡」（Macaw）。金剛鸚鵡有多種不同的品種，其中如藍黃金剛鸚鵡（Blue-and-yellow Macaw）和紅藍金剛鸚鵡（Scarlet Macaw）等，牠們的羽毛色彩鮮豔，色彩斑斕，深受人們喜愛。這些鸚鵡的顏色不僅美麗，還具有很高的觀賞價值。'"
      ]
     },
     "execution_count": 2,
     "metadata": {},
     "output_type": "execute_result"
    }
   ],
   "source": [
    "# openai\n",
    "from src.inference_engine.openai import OpenAIInferenceEngine\n",
    "\n",
    "engine = OpenAIInferenceEngine('gpt-4o-mini')\n",
    "response = engine.chat_completions('這世上顏色最鮮豔的一種鸚鵡是？')\n",
    "response.choices[0].message.content"
   ]
  },
  {
   "cell_type": "code",
   "execution_count": 3,
   "metadata": {},
   "outputs": [
    {
     "data": {
      "text/plain": [
       "'世界上顏色最鮮豔的鸚鵡之一是彩虹吸蜜鸚鵡（Rainbow Lorikeet）。這種鸚鵡以其鮮豔的羽毛而聞名，擁有多種顏色，包括藍色、綠色、紅色和黃色。彩虹吸蜜鸚鵡主要分布在澳大利亞和印尼的一些地區，是非常受歡迎的觀賞鳥。'"
      ]
     },
     "execution_count": 3,
     "metadata": {},
     "output_type": "execute_result"
    }
   ],
   "source": [
    "# openrouter\n",
    "from src.inference_engine import OpenRouterInferenceEngine\n",
    "\n",
    "engine = OpenRouterInferenceEngine('openai/gpt-4o-2024-08-06')\n",
    "response = engine.chat_completions('這世上顏色最鮮豔的一種鸚鵡是？')\n",
    "response.choices[0].message.content"
   ]
  },
  {
   "cell_type": "code",
   "execution_count": 4,
   "metadata": {},
   "outputs": [
    {
     "data": {
      "text/plain": [
       "'藍鸚鵡'"
      ]
     },
     "execution_count": 4,
     "metadata": {},
     "output_type": "execute_result"
    }
   ],
   "source": [
    "# fireworks\n",
    "from src.inference_engine import FireWorksInferenceEngine\n",
    "\n",
    "engine = FireWorksInferenceEngine('llama-v3p2-11b-vision-instruct')\n",
    "response = engine.chat_completions('這世上顏色最鮮豔的一種鸚鵡是？')\n",
    "response.choices[0].message.content"
   ]
  },
  {
   "cell_type": "markdown",
   "metadata": {},
   "source": [
    "# Test Generator"
   ]
  },
  {
   "cell_type": "markdown",
   "metadata": {},
   "source": [
    "## Sync"
   ]
  },
  {
   "cell_type": "code",
   "execution_count": 4,
   "metadata": {},
   "outputs": [],
   "source": [
    "# Initialize the BudgeRigar: image-to-textQA data generator\n",
    "\n",
    "from src.generator.budgerigar import BudgeRigar\n",
    "from src.inference_engine import OpenAIInferenceEngine \n",
    "\n",
    "image_path = './source/images/budgerigar.jpg'\n",
    "\n",
    "engine = OpenAIInferenceEngine('gpt-4o-mini')\n",
    "data_generator = BudgeRigar(engine=engine)"
   ]
  },
  {
   "cell_type": "code",
   "execution_count": 5,
   "metadata": {},
   "outputs": [
    {
     "data": {
      "text/plain": [
       "[[{'role': 'user', 'content': 'What types of birds are shown in the image?'},\n",
       "  {'role': 'assistant',\n",
       "   'content': 'The image features budgerigars, commonly known as budgies, which are small, colorful parrots.'}]]"
      ]
     },
     "execution_count": 5,
     "metadata": {},
     "output_type": "execute_result"
    }
   ],
   "source": [
    "# Demo 1: single-turn data generating\n",
    "output = data_generator.batch_generate(image_path, min_turn=1, max_turn=1)\n",
    "output"
   ]
  },
  {
   "cell_type": "code",
   "execution_count": 6,
   "metadata": {},
   "outputs": [
    {
     "data": {
      "text/plain": [
       "[[{'role': 'user',\n",
       "   'content': 'What types of birds are featured in the image?'},\n",
       "  {'role': 'assistant',\n",
       "   'content': 'The image features budgerigars, commonly known as budgies or parakeets.'},\n",
       "  {'role': 'user', 'content': 'What are some common colors of budgerigars?'},\n",
       "  {'role': 'assistant',\n",
       "   'content': 'Budgerigars come in a variety of colors, including yellow, blue, green, and white, among others.'},\n",
       "  {'role': 'user',\n",
       "   'content': 'How do the colors of budgerigars affect their popularity as pets?'},\n",
       "  {'role': 'assistant',\n",
       "   'content': 'The vibrant colors of budgerigars make them visually appealing, which contributes to their popularity as pets. Many people are drawn to their bright plumage and playful nature.'},\n",
       "  {'role': 'user',\n",
       "   'content': 'What are some care tips for keeping budgerigars as pets?'},\n",
       "  {'role': 'assistant',\n",
       "   'content': \"To care for budgerigars, provide a spacious cage, a balanced diet of seeds and fresh vegetables, regular social interaction, and opportunities for exercise. It's also important to keep their environment clean and safe.\"}]]"
      ]
     },
     "execution_count": 6,
     "metadata": {},
     "output_type": "execute_result"
    }
   ],
   "source": [
    "# Demo 2: multi-turn data generating\n",
    "output = data_generator.batch_generate(image_path, min_turn=1, max_turn=5)\n",
    "output"
   ]
  },
  {
   "cell_type": "code",
   "execution_count": 7,
   "metadata": {},
   "outputs": [
    {
     "data": {
      "text/plain": [
       "[[{'role': 'user', 'content': 'What types of birds are shown in the image?'},\n",
       "  {'role': 'assistant',\n",
       "   'content': 'The image features budgerigars, commonly known as budgies or parakeets.'},\n",
       "  {'role': 'user', 'content': 'What colors are the birds in the image?'},\n",
       "  {'role': 'assistant',\n",
       "   'content': 'The birds in the image are yellow, light blue, and a darker blue with stripes on their heads.'},\n",
       "  {'role': 'user', 'content': 'How many birds are there in the image?'},\n",
       "  {'role': 'assistant', 'content': 'There are three birds in the image.'},\n",
       "  {'role': 'user', 'content': 'What is a common habitat for budgerigars?'},\n",
       "  {'role': 'assistant',\n",
       "   'content': 'Budgerigars are commonly found in grasslands and open woodlands in their native Australia.'},\n",
       "  {'role': 'user', 'content': 'Are budgerigars social birds?'},\n",
       "  {'role': 'assistant',\n",
       "   'content': 'Yes, budgerigars are very social birds and often thrive in flocks.'}]]"
      ]
     },
     "execution_count": 7,
     "metadata": {},
     "output_type": "execute_result"
    }
   ],
   "source": [
    "# Demo 3: multi-independent-turn data generating\n",
    "output = data_generator.batch_generate(image_path, min_turn=1, max_turn=5, question_independent=True)\n",
    "output"
   ]
  },
  {
   "cell_type": "markdown",
   "metadata": {},
   "source": [
    "## Async"
   ]
  },
  {
   "cell_type": "code",
   "execution_count": 2,
   "metadata": {},
   "outputs": [
    {
     "data": {
      "text/plain": [
       "[[{'role': 'user',\n",
       "   'content': 'What types of birds are featured in the image?'},\n",
       "  {'role': 'assistant',\n",
       "   'content': 'The image features budgerigars, commonly known as budgies or parakeets.'},\n",
       "  {'role': 'user', 'content': 'What are some common colors of budgerigars?'},\n",
       "  {'role': 'assistant',\n",
       "   'content': 'Budgerigars come in a variety of colors, including yellow, blue, green, and white, among others.'},\n",
       "  {'role': 'user',\n",
       "   'content': 'How do the colors of budgerigars affect their popularity as pets?'},\n",
       "  {'role': 'assistant',\n",
       "   'content': 'The vibrant colors of budgerigars make them visually appealing, which contributes to their popularity as pets. Many people are drawn to their bright plumage and playful nature.'},\n",
       "  {'role': 'user',\n",
       "   'content': 'What are some care tips for keeping budgerigars as pets?'},\n",
       "  {'role': 'assistant',\n",
       "   'content': 'Some care tips for keeping budgerigars include providing a spacious cage, a balanced diet of seeds and fresh vegetables, regular social interaction, and ensuring they have toys for mental stimulation.'}],\n",
       " [{'role': 'user',\n",
       "   'content': 'What types of birds are featured in the image?'},\n",
       "  {'role': 'assistant',\n",
       "   'content': 'The image features budgerigars, commonly known as budgies, which are small, colorful parrots.'},\n",
       "  {'role': 'user', 'content': 'What are some common colors of budgerigars?'},\n",
       "  {'role': 'assistant',\n",
       "   'content': 'Budgerigars come in a variety of colors, including green, yellow, blue, and white, with some having combinations of these colors.'},\n",
       "  {'role': 'user',\n",
       "   'content': 'How do the colors of budgerigars affect their popularity as pets?'},\n",
       "  {'role': 'assistant',\n",
       "   'content': 'The vibrant colors of budgerigars make them visually appealing, which contributes to their popularity as pets. Many people choose specific colors based on personal preference or trends.'},\n",
       "  {'role': 'user',\n",
       "   'content': 'What are some care tips for keeping budgerigars as pets?'},\n",
       "  {'role': 'assistant',\n",
       "   'content': \"To care for budgerigars, provide a spacious cage, a balanced diet of seeds and fresh vegetables, regular social interaction, and mental stimulation through toys. It's also important to ensure they have access to clean water and a safe environment.\"}],\n",
       " [{'role': 'user',\n",
       "   'content': 'What types of birds are featured in the image?'},\n",
       "  {'role': 'assistant',\n",
       "   'content': 'The image features budgerigars, commonly known as budgies or parakeets.'},\n",
       "  {'role': 'user', 'content': 'What are some common colors of budgerigars?'},\n",
       "  {'role': 'assistant',\n",
       "   'content': 'Budgerigars come in a variety of colors, including yellow, blue, green, and white, among others.'},\n",
       "  {'role': 'user',\n",
       "   'content': 'How do the colors of budgerigars affect their popularity as pets?'},\n",
       "  {'role': 'assistant',\n",
       "   'content': 'The vibrant colors of budgerigars make them visually appealing, which contributes to their popularity as pets. Many people are drawn to their bright plumage and playful nature.'},\n",
       "  {'role': 'user',\n",
       "   'content': 'What are some care tips for keeping budgerigars as pets?'},\n",
       "  {'role': 'assistant',\n",
       "   'content': \"To care for budgerigars, provide a spacious cage, a balanced diet of seeds and fresh vegetables, regular social interaction, and opportunities for exercise. It's also important to keep their environment clean and safe.\"}],\n",
       " [{'role': 'user',\n",
       "   'content': 'What types of birds are featured in the image?'},\n",
       "  {'role': 'assistant',\n",
       "   'content': 'The image features budgerigars, commonly known as budgies or parakeets.'},\n",
       "  {'role': 'user', 'content': 'What are some common colors of budgerigars?'},\n",
       "  {'role': 'assistant',\n",
       "   'content': 'Budgerigars come in a variety of colors, including yellow, blue, green, and white, among others.'},\n",
       "  {'role': 'user',\n",
       "   'content': 'How do the colors of budgerigars affect their popularity as pets?'},\n",
       "  {'role': 'assistant',\n",
       "   'content': 'The vibrant colors of budgerigars make them visually appealing, which contributes to their popularity as pets. Many people are drawn to their bright plumage and playful personalities.'},\n",
       "  {'role': 'user',\n",
       "   'content': 'What are some care tips for keeping budgerigars as pets?'},\n",
       "  {'role': 'assistant',\n",
       "   'content': \"To care for budgerigars, provide a spacious cage, a balanced diet of seeds and fresh vegetables, regular social interaction, and opportunities for exercise. It's also important to keep their environment clean and safe.\"}],\n",
       " [{'role': 'user',\n",
       "   'content': 'What types of birds are featured in the image?'},\n",
       "  {'role': 'assistant',\n",
       "   'content': 'The image features budgerigars, commonly known as budgies or parakeets.'},\n",
       "  {'role': 'user', 'content': 'What are some common colors of budgerigars?'},\n",
       "  {'role': 'assistant',\n",
       "   'content': 'Budgerigars come in various colors, including yellow, blue, green, and white, with some having combinations of these colors.'},\n",
       "  {'role': 'user',\n",
       "   'content': 'How do the colors of budgerigars affect their popularity as pets?'},\n",
       "  {'role': 'assistant',\n",
       "   'content': 'The vibrant colors of budgerigars make them visually appealing, which contributes to their popularity as pets. Many people choose specific colors based on personal preference or trends.'},\n",
       "  {'role': 'user',\n",
       "   'content': 'What are some care tips for keeping budgerigars as pets?'},\n",
       "  {'role': 'assistant',\n",
       "   'content': \"To care for budgerigars, provide a spacious cage, a balanced diet of seeds and fresh vegetables, regular social interaction, and mental stimulation through toys. It's also important to ensure they have access to clean water and a safe environment.\"}]]"
      ]
     },
     "execution_count": 2,
     "metadata": {},
     "output_type": "execute_result"
    }
   ],
   "source": [
    "# Demo 4: async multi-turn data generating\n",
    "# OpenAI\n",
    "from src.generator.budgerigar import AsyncBudgeRigar\n",
    "from src.inference_engine import AsyncOpenAIInferenceEngine\n",
    "\n",
    "image_path = ['./source/images/budgerigar.jpg'] * 5\n",
    "\n",
    "engine = AsyncOpenAIInferenceEngine('gpt-4o-mini')\n",
    "data_generator = AsyncBudgeRigar(engine=engine)\n",
    "\n",
    "output = await data_generator.batch_generate(image_path, min_turn=1, max_turn=5, question_independent=False)\n",
    "output"
   ]
  },
  {
   "cell_type": "code",
   "execution_count": 2,
   "metadata": {},
   "outputs": [
    {
     "data": {
      "text/plain": [
       "[[{'role': 'user',\n",
       "   'content': 'What types of birds are featured in the image?'},\n",
       "  {'role': 'assistant',\n",
       "   'content': 'The image features budgerigars, commonly known as budgies or parakeets.'},\n",
       "  {'role': 'user', 'content': 'What are some common colors of budgerigars?'},\n",
       "  {'role': 'assistant',\n",
       "   'content': 'Budgerigars come in various colors, including green, yellow, blue, and white, with some having combinations of these colors.'},\n",
       "  {'role': 'user',\n",
       "   'content': 'How do the colors of budgerigars affect their popularity as pets?'},\n",
       "  {'role': 'assistant',\n",
       "   'content': 'The vibrant colors of budgerigars make them visually appealing, which contributes to their popularity as pets. Many people choose specific colors based on personal preference.'},\n",
       "  {'role': 'user',\n",
       "   'content': 'What are some care tips for keeping budgerigars as pets?'},\n",
       "  {'role': 'assistant',\n",
       "   'content': 'To care for budgerigars, provide a spacious cage, a balanced diet of seeds and fresh vegetables, regular social interaction, and mental stimulation through toys and activities.'}],\n",
       " [{'role': 'user',\n",
       "   'content': 'What types of birds are featured in the image?'},\n",
       "  {'role': 'assistant',\n",
       "   'content': 'The image features budgerigars, commonly known as budgies or parakeets.'},\n",
       "  {'role': 'user', 'content': 'What are some common colors of budgerigars?'},\n",
       "  {'role': 'assistant',\n",
       "   'content': 'Budgerigars come in a variety of colors, including yellow, blue, green, and white, among others.'},\n",
       "  {'role': 'user',\n",
       "   'content': 'How do the colors of budgerigars affect their popularity as pets?'},\n",
       "  {'role': 'assistant',\n",
       "   'content': 'The vibrant colors of budgerigars make them visually appealing, which contributes to their popularity as pets. Many people are drawn to their bright plumage and playful nature.'},\n",
       "  {'role': 'user',\n",
       "   'content': 'What are some care tips for keeping budgerigars as pets?'},\n",
       "  {'role': 'assistant',\n",
       "   'content': \"To care for budgerigars, provide a spacious cage, a balanced diet of seeds and fresh vegetables, regular social interaction, and opportunities for exercise. It's also important to keep their environment clean and safe.\"}],\n",
       " [{'role': 'user',\n",
       "   'content': 'What types of birds are featured in the image?'},\n",
       "  {'role': 'assistant',\n",
       "   'content': 'The image features budgerigars, commonly known as budgies or parakeets.'},\n",
       "  {'role': 'user', 'content': 'What are some common colors of budgerigars?'},\n",
       "  {'role': 'assistant',\n",
       "   'content': 'Budgerigars come in various colors, including yellow, blue, green, and white, with many combinations and patterns.'},\n",
       "  {'role': 'user',\n",
       "   'content': 'How do the colors of budgerigars affect their popularity as pets?'},\n",
       "  {'role': 'assistant',\n",
       "   'content': 'The vibrant colors of budgerigars make them visually appealing, which contributes to their popularity as pets. Many people choose specific colors based on personal preference.'},\n",
       "  {'role': 'user',\n",
       "   'content': 'What are some care tips for keeping budgerigars as pets?'},\n",
       "  {'role': 'assistant',\n",
       "   'content': 'To care for budgerigars, provide a spacious cage, a balanced diet of seeds and fresh vegetables, regular social interaction, and mental stimulation through toys and activities.'}],\n",
       " [{'role': 'user',\n",
       "   'content': 'What types of birds are featured in the image?'},\n",
       "  {'role': 'assistant',\n",
       "   'content': 'The image features budgerigars, commonly known as budgies or parakeets.'},\n",
       "  {'role': 'user', 'content': 'What are some common colors of budgerigars?'},\n",
       "  {'role': 'assistant',\n",
       "   'content': 'Budgerigars come in a variety of colors, including yellow, blue, green, and white, among others.'},\n",
       "  {'role': 'user',\n",
       "   'content': 'How do the colors of budgerigars affect their popularity as pets?'},\n",
       "  {'role': 'assistant',\n",
       "   'content': 'The vibrant colors of budgerigars make them visually appealing, which contributes to their popularity as pets. Many people are drawn to their bright plumage and playful nature.'},\n",
       "  {'role': 'user',\n",
       "   'content': 'What are some care tips for keeping budgerigars as pets?'},\n",
       "  {'role': 'assistant',\n",
       "   'content': 'Some care tips for keeping budgerigars include providing a spacious cage, a balanced diet of seeds and fresh vegetables, regular social interaction, and ensuring they have toys for mental stimulation.'}],\n",
       " [{'role': 'user',\n",
       "   'content': 'What types of birds are featured in the image?'},\n",
       "  {'role': 'assistant',\n",
       "   'content': 'The image features budgerigars, commonly known as budgies or parakeets.'},\n",
       "  {'role': 'user', 'content': 'What are some common colors of budgerigars?'},\n",
       "  {'role': 'assistant',\n",
       "   'content': 'Budgerigars come in various colors, including yellow, blue, green, and white, with many combinations and patterns.'},\n",
       "  {'role': 'user',\n",
       "   'content': 'How do the colors of budgerigars affect their popularity as pets?'},\n",
       "  {'role': 'assistant',\n",
       "   'content': 'The vibrant colors of budgerigars make them visually appealing, which contributes to their popularity as pets. Many people are drawn to their bright plumage and playful nature.'},\n",
       "  {'role': 'user',\n",
       "   'content': 'What are some care tips for keeping budgerigars as pets?'},\n",
       "  {'role': 'assistant',\n",
       "   'content': 'To care for budgerigars, provide a spacious cage, a balanced diet of seeds and fresh vegetables, regular social interaction, and mental stimulation through toys and activities.'}]]"
      ]
     },
     "execution_count": 2,
     "metadata": {},
     "output_type": "execute_result"
    }
   ],
   "source": [
    "# Demo 4: async multi-turn data generating\n",
    "# OpenRouter\n",
    "from src.generator.budgerigar import AsyncBudgeRigar\n",
    "from src.inference_engine import AsyncOpenRouterInferenceEngine\n",
    "\n",
    "image_path = ['./source/images/budgerigar.jpg'] * 5\n",
    "\n",
    "engine = AsyncOpenRouterInferenceEngine('openai/gpt-4o-mini')\n",
    "data_generator = AsyncBudgeRigar(engine=engine)\n",
    "\n",
    "output = await data_generator.batch_generate(image_path, min_turn=1, max_turn=5, question_independent=False)\n",
    "output"
   ]
  }
 ],
 "metadata": {
  "kernelspec": {
   "display_name": ".venv",
   "language": "python",
   "name": "python3"
  },
  "language_info": {
   "codemirror_mode": {
    "name": "ipython",
    "version": 3
   },
   "file_extension": ".py",
   "mimetype": "text/x-python",
   "name": "python",
   "nbconvert_exporter": "python",
   "pygments_lexer": "ipython3",
   "version": "3.9.13"
  }
 },
 "nbformat": 4,
 "nbformat_minor": 2
}
